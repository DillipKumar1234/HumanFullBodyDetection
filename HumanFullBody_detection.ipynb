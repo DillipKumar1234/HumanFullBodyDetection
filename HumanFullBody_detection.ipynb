{
 "cells": [
  {
   "cell_type": "code",
   "execution_count": null,
   "id": "12745c60",
   "metadata": {},
   "outputs": [],
   "source": [
    "import cv2 as cv"
   ]
  },
  {
   "cell_type": "code",
   "execution_count": null,
   "id": "64730d0f",
   "metadata": {},
   "outputs": [],
   "source": [
    "cap=cv.VideoCapture(\"P1033744.mp4\")\n"
   ]
  },
  {
   "cell_type": "code",
   "execution_count": null,
   "id": "5634f897",
   "metadata": {},
   "outputs": [],
   "source": [
    "harcascade=cv.CascadeClassifier(\"haarcascade_fullbody.xml\")"
   ]
  },
  {
   "cell_type": "code",
   "execution_count": null,
   "id": "ffc7e328",
   "metadata": {},
   "outputs": [],
   "source": [
    "\n",
    "while True:\n",
    "    ret,frames=cap.read()\n",
    "    frame=cv.resize(frames,(600,400))\n",
    "    gray=cv.cvtColor(frame,cv.COLOR_BGR2GRAY)\n",
    "    fullbody=harcascade.detectMultiScale(gray,1.2,5)\n",
    "    \n",
    "    for(x,y,w,h) in fullbody:\n",
    "        cv.rectangle(frame, (x,y),(x+w,y+h),(51 ,51,255),2)\n",
    "        \n",
    "    \n",
    "    cv.imshow('screen',frame)\n",
    "    \n",
    "    k = cv.waitKey(100)\n",
    "    if k == 27:\n",
    "        break\n",
    "cv.destroyAllWindows"
   ]
  },
  {
   "cell_type": "code",
   "execution_count": null,
   "id": "e2fa6f87",
   "metadata": {},
   "outputs": [],
   "source": []
  },
  {
   "cell_type": "code",
   "execution_count": null,
   "id": "964b8bf0",
   "metadata": {},
   "outputs": [],
   "source": []
  }
 ],
 "metadata": {
  "kernelspec": {
   "display_name": "Python 3",
   "language": "python",
   "name": "python3"
  },
  "language_info": {
   "codemirror_mode": {
    "name": "ipython",
    "version": 3
   },
   "file_extension": ".py",
   "mimetype": "text/x-python",
   "name": "python",
   "nbconvert_exporter": "python",
   "pygments_lexer": "ipython3",
   "version": "3.8.8"
  }
 },
 "nbformat": 4,
 "nbformat_minor": 5
}
